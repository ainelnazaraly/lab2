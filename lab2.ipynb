{
 "cells": [
  {
   "cell_type": "markdown",
   "id": "0ef623f3",
   "metadata": {},
   "source": [
    "Bool ex1"
   ]
  },
  {
   "cell_type": "code",
   "execution_count": 1,
   "id": "cd0d694b",
   "metadata": {},
   "outputs": [
    {
     "name": "stdout",
     "output_type": "stream",
     "text": [
      "True\n"
     ]
    }
   ],
   "source": [
    "print(10>9)\n",
    "#true"
   ]
  },
  {
   "cell_type": "markdown",
   "id": "376fb8dc",
   "metadata": {},
   "source": [
    "Bool ex2"
   ]
  },
  {
   "cell_type": "code",
   "execution_count": 3,
   "id": "e2e3efee",
   "metadata": {},
   "outputs": [
    {
     "name": "stdout",
     "output_type": "stream",
     "text": [
      "False\n"
     ]
    }
   ],
   "source": [
    "print(10==9)\n",
    "#false"
   ]
  },
  {
   "cell_type": "markdown",
   "id": "3aa90409",
   "metadata": {},
   "source": [
    "Bool ex3"
   ]
  },
  {
   "cell_type": "code",
   "execution_count": null,
   "id": "889013eb",
   "metadata": {},
   "outputs": [],
   "source": [
    "print(10<9)\n",
    "#false"
   ]
  },
  {
   "cell_type": "markdown",
   "id": "6c60b040",
   "metadata": {},
   "source": [
    "Bool ex4"
   ]
  },
  {
   "cell_type": "code",
   "execution_count": 4,
   "id": "c01b6e59",
   "metadata": {},
   "outputs": [
    {
     "name": "stdout",
     "output_type": "stream",
     "text": [
      "True\n"
     ]
    }
   ],
   "source": [
    "print(bool(\"abc\"))\n",
    "#true"
   ]
  },
  {
   "cell_type": "markdown",
   "id": "e3bbe9e4",
   "metadata": {},
   "source": [
    "Bool ex5"
   ]
  },
  {
   "cell_type": "code",
   "execution_count": null,
   "id": "d55bcbee",
   "metadata": {},
   "outputs": [],
   "source": [
    "print(bool(0))\n",
    "#false"
   ]
  },
  {
   "cell_type": "markdown",
   "id": "e7b67d4d",
   "metadata": {},
   "source": [
    "Oper ex1"
   ]
  },
  {
   "cell_type": "code",
   "execution_count": 5,
   "id": "ea6b6bbb",
   "metadata": {},
   "outputs": [
    {
     "name": "stdout",
     "output_type": "stream",
     "text": [
      "50\n"
     ]
    }
   ],
   "source": [
    "print(10*5)"
   ]
  },
  {
   "cell_type": "markdown",
   "id": "1d303711",
   "metadata": {},
   "source": [
    "Oper ex2"
   ]
  },
  {
   "cell_type": "code",
   "execution_count": null,
   "id": "0bc5ee7c",
   "metadata": {},
   "outputs": [],
   "source": [
    "print(10/2)"
   ]
  },
  {
   "cell_type": "markdown",
   "id": "55c97afd",
   "metadata": {},
   "source": [
    "Oper ex3"
   ]
  },
  {
   "cell_type": "code",
   "execution_count": 6,
   "id": "279199a0",
   "metadata": {},
   "outputs": [
    {
     "name": "stdout",
     "output_type": "stream",
     "text": [
      "Yes, apple is a fruit!\n"
     ]
    }
   ],
   "source": [
    "fruits = [\"apple\", \"banana\"]\n",
    "if \"apple\" in fruits:\n",
    "  print(\"Yes, apple is a fruit!\")"
   ]
  },
  {
   "cell_type": "markdown",
   "id": "5d8a5f2d",
   "metadata": {},
   "source": [
    "Oper ex4"
   ]
  },
  {
   "cell_type": "code",
   "execution_count": null,
   "id": "a1e637a0",
   "metadata": {},
   "outputs": [],
   "source": [
    "if 5!=10:\n",
    "    print(\"5 and 10 is not equal\")"
   ]
  },
  {
   "cell_type": "markdown",
   "id": "dcd5a679",
   "metadata": {},
   "source": [
    "Oper ex5"
   ]
  },
  {
   "cell_type": "code",
   "execution_count": null,
   "id": "d6c522a7",
   "metadata": {},
   "outputs": [],
   "source": [
    "if 5 == 10 or 4 == 4:\n",
    "  print(\"At least one of the statements is true\")"
   ]
  },
  {
   "cell_type": "markdown",
   "id": "e24ff7bf",
   "metadata": {},
   "source": [
    "list ex1"
   ]
  },
  {
   "cell_type": "code",
   "execution_count": 9,
   "id": "fb4d0554",
   "metadata": {},
   "outputs": [
    {
     "name": "stdout",
     "output_type": "stream",
     "text": [
      "banana\n"
     ]
    }
   ],
   "source": [
    "fruits = [\"apple\", \"banana\", \"cherry\"]\n",
    "print(fruits[1])"
   ]
  },
  {
   "cell_type": "markdown",
   "id": "a0592cff",
   "metadata": {},
   "source": [
    "list ex2"
   ]
  },
  {
   "cell_type": "code",
   "execution_count": null,
   "id": "9f4f8857",
   "metadata": {},
   "outputs": [],
   "source": [
    "fruits = [\"apple\", \"banana\", \"cherry\"]\n",
    "fruits[0]=\"kiwi\" "
   ]
  },
  {
   "cell_type": "markdown",
   "id": "f4f883f6",
   "metadata": {},
   "source": [
    "list ex3"
   ]
  },
  {
   "cell_type": "code",
   "execution_count": 11,
   "id": "f4d86a74",
   "metadata": {},
   "outputs": [],
   "source": [
    "fruits = [\"apple\", \"banana\", \"cherry\"]\n",
    "fruits.append(\"orange\")"
   ]
  },
  {
   "cell_type": "markdown",
   "id": "b1b188f0",
   "metadata": {},
   "source": [
    "list ex4"
   ]
  },
  {
   "cell_type": "code",
   "execution_count": 12,
   "id": "c942f1d6",
   "metadata": {},
   "outputs": [],
   "source": [
    "fruits = [\"apple\", \"banana\", \"cherry\"]\n",
    "fruits.insert(1, \"lemon\")"
   ]
  },
  {
   "cell_type": "markdown",
   "id": "086c0199",
   "metadata": {},
   "source": [
    "list ex5"
   ]
  },
  {
   "cell_type": "code",
   "execution_count": 13,
   "id": "87e43033",
   "metadata": {},
   "outputs": [],
   "source": [
    "fruits = [\"apple\", \"banana\", \"cherry\"]\n",
    "fruits.remove(\"banana\")"
   ]
  },
  {
   "cell_type": "markdown",
   "id": "d80d35fe",
   "metadata": {},
   "source": [
    "list ex6"
   ]
  },
  {
   "cell_type": "code",
   "execution_count": 14,
   "id": "c00ba1c6",
   "metadata": {},
   "outputs": [
    {
     "name": "stdout",
     "output_type": "stream",
     "text": [
      "cherry\n"
     ]
    }
   ],
   "source": [
    "fruits = [\"apple\", \"banana\", \"cherry\"]\n",
    "print(fruits[-1])"
   ]
  },
  {
   "cell_type": "markdown",
   "id": "9c4de6e1",
   "metadata": {},
   "source": [
    "list ex7"
   ]
  },
  {
   "cell_type": "code",
   "execution_count": 15,
   "id": "21d99fbf",
   "metadata": {},
   "outputs": [
    {
     "name": "stdout",
     "output_type": "stream",
     "text": [
      "['cherry', 'orange', 'kiwi']\n"
     ]
    }
   ],
   "source": [
    "fruits = [\"apple\", \"banana\", \"cherry\", \"orange\", \"kiwi\", \"melon\", \"mango\"]\n",
    "print(fruits[2:5])"
   ]
  },
  {
   "cell_type": "markdown",
   "id": "3c740a91",
   "metadata": {},
   "source": [
    "list ex8"
   ]
  },
  {
   "cell_type": "code",
   "execution_count": 16,
   "id": "ce33954e",
   "metadata": {},
   "outputs": [
    {
     "name": "stdout",
     "output_type": "stream",
     "text": [
      "3\n"
     ]
    }
   ],
   "source": [
    "fruits = [\"apple\", \"banana\", \"cherry\"]\n",
    "print(len(fruits))"
   ]
  },
  {
   "cell_type": "markdown",
   "id": "d7e21f1d",
   "metadata": {},
   "source": [
    "Tuple ex1"
   ]
  },
  {
   "cell_type": "code",
   "execution_count": null,
   "id": "997ea995",
   "metadata": {},
   "outputs": [],
   "source": [
    "fruits = (\"apple\", \"banana\", \"cherry\")\n",
    "print(fruits[0])"
   ]
  },
  {
   "cell_type": "markdown",
   "id": "69ef99e3",
   "metadata": {},
   "source": [
    "Tuple ex2"
   ]
  },
  {
   "cell_type": "code",
   "execution_count": null,
   "id": "96a774a8",
   "metadata": {},
   "outputs": [],
   "source": [
    "fruits = (\"apple\", \"banana\", \"cherry\")\n",
    "print(len(fruits))"
   ]
  },
  {
   "cell_type": "markdown",
   "id": "c422e524",
   "metadata": {},
   "source": [
    "Tuple ex3"
   ]
  },
  {
   "cell_type": "code",
   "execution_count": 17,
   "id": "70e082f0",
   "metadata": {},
   "outputs": [
    {
     "name": "stdout",
     "output_type": "stream",
     "text": [
      "cherry\n"
     ]
    }
   ],
   "source": [
    "fruits = (\"apple\", \"banana\", \"cherry\")\n",
    "print(fruits[-1])"
   ]
  },
  {
   "cell_type": "markdown",
   "id": "46b5e192",
   "metadata": {},
   "source": [
    "Tuple ex4"
   ]
  },
  {
   "cell_type": "code",
   "execution_count": 18,
   "id": "01504857",
   "metadata": {},
   "outputs": [
    {
     "name": "stdout",
     "output_type": "stream",
     "text": [
      "('cherry', 'orange', 'kiwi')\n"
     ]
    }
   ],
   "source": [
    "fruits = (\"apple\", \"banana\", \"cherry\", \"orange\", \"kiwi\", \"melon\", \"mango\")\n",
    "print(fruits[2:5])"
   ]
  },
  {
   "cell_type": "markdown",
   "id": "89701ddc",
   "metadata": {},
   "source": [
    "sets ex1"
   ]
  },
  {
   "cell_type": "code",
   "execution_count": null,
   "id": "4375b824",
   "metadata": {},
   "outputs": [],
   "source": [
    "fruits = {\"apple\", \"banana\", \"cherry\"}\n",
    "if \"apple\" in fruits:\n",
    "  print(\"Yes, apple is a fruit!\")"
   ]
  },
  {
   "cell_type": "markdown",
   "id": "75a1a03e",
   "metadata": {},
   "source": [
    "sets ex2"
   ]
  },
  {
   "cell_type": "code",
   "execution_count": 19,
   "id": "0495347d",
   "metadata": {},
   "outputs": [],
   "source": [
    "fruits = {\"apple\", \"banana\", \"cherry\"}\n",
    "fruits.add(\"orange\")"
   ]
  },
  {
   "cell_type": "markdown",
   "id": "cb23c7ee",
   "metadata": {},
   "source": [
    "sets ex3"
   ]
  },
  {
   "cell_type": "code",
   "execution_count": null,
   "id": "6e13a9d5",
   "metadata": {},
   "outputs": [],
   "source": [
    "fruits = {\"apple\", \"banana\", \"cherry\"}\n",
    "more_fruits = [\"orange\", \"mango\", \"grapes\"]\n",
    "fruits.update(more_fruits)"
   ]
  },
  {
   "cell_type": "markdown",
   "id": "c61b811c",
   "metadata": {},
   "source": [
    "sets ex4"
   ]
  },
  {
   "cell_type": "code",
   "execution_count": null,
   "id": "511dd16d",
   "metadata": {},
   "outputs": [],
   "source": [
    "fruits = {\"apple\", \"banana\", \"cherry\"}\n",
    "fruits.remore(\"banana\")"
   ]
  },
  {
   "cell_type": "markdown",
   "id": "e76153fa",
   "metadata": {},
   "source": [
    "sets ex5"
   ]
  },
  {
   "cell_type": "code",
   "execution_count": null,
   "id": "d0cb1998",
   "metadata": {},
   "outputs": [],
   "source": [
    "fruits = {\"apple\", \"banana\", \"cherry\"}\n",
    "fruits.discard(\"banana\")"
   ]
  },
  {
   "cell_type": "markdown",
   "id": "c4b3d064",
   "metadata": {},
   "source": [
    "Dict ex1 "
   ]
  },
  {
   "cell_type": "code",
   "execution_count": 24,
   "id": "38c7e76e",
   "metadata": {},
   "outputs": [
    {
     "name": "stdout",
     "output_type": "stream",
     "text": [
      "Mustang\n"
     ]
    }
   ],
   "source": [
    "car ={\n",
    "  \"brand\": \"Ford\",\n",
    "  \"model\": \"Mustang\",\n",
    "  \"year\": 1964\n",
    "}\n",
    "print(car.get(\"model\"))"
   ]
  },
  {
   "cell_type": "markdown",
   "id": "e562cb51",
   "metadata": {},
   "source": [
    "Dict ex2"
   ]
  },
  {
   "cell_type": "code",
   "execution_count": null,
   "id": "02689517",
   "metadata": {},
   "outputs": [],
   "source": [
    "car =\t{\n",
    "  \"brand\": \"Ford\",\n",
    "  \"model\": \"Mustang\",\n",
    "  \"year\": 1964\n",
    "}\n",
    "car[\"year\"]=2020"
   ]
  },
  {
   "cell_type": "markdown",
   "id": "2a3ee677",
   "metadata": {},
   "source": [
    "Dict ex3"
   ]
  },
  {
   "cell_type": "code",
   "execution_count": 26,
   "id": "8cef4ac5",
   "metadata": {},
   "outputs": [],
   "source": [
    "car =\t{\n",
    "  \"brand\": \"Ford\",\n",
    "  \"model\": \"Mustang\",\n",
    "  \"year\": 1964\n",
    "}\n",
    "car[\"color\"]=\"red\""
   ]
  },
  {
   "cell_type": "markdown",
   "id": "4a8b364a",
   "metadata": {},
   "source": [
    "Dict ex4"
   ]
  },
  {
   "cell_type": "code",
   "execution_count": null,
   "id": "c8a37ce7",
   "metadata": {},
   "outputs": [],
   "source": [
    "car ={\n",
    "  \"brand\": \"Ford\",\n",
    "  \"model\": \"Mustang\",\n",
    "  \"year\": 1964\n",
    "}\n",
    "car.pop(\"model\")"
   ]
  },
  {
   "cell_type": "markdown",
   "id": "da29678e",
   "metadata": {},
   "source": [
    "Dict ex5"
   ]
  },
  {
   "cell_type": "code",
   "execution_count": null,
   "id": "b1dba373",
   "metadata": {},
   "outputs": [],
   "source": [
    "car ={\n",
    "  \"brand\": \"Ford\",\n",
    "  \"model\": \"Mustang\",\n",
    "  \"year\": 1964\n",
    "}\n",
    "car.clear()"
   ]
  },
  {
   "cell_type": "markdown",
   "id": "92b9c633",
   "metadata": {},
   "source": [
    "if ex1"
   ]
  },
  {
   "cell_type": "code",
   "execution_count": 27,
   "id": "c515881d",
   "metadata": {},
   "outputs": [
    {
     "name": "stdout",
     "output_type": "stream",
     "text": [
      "Hello World\n"
     ]
    }
   ],
   "source": [
    "a = 50\n",
    "b = 10\n",
    "if a>b: \n",
    " print(\"Hello World\")"
   ]
  },
  {
   "cell_type": "markdown",
   "id": "af808c05",
   "metadata": {},
   "source": [
    "if ex2"
   ]
  },
  {
   "cell_type": "code",
   "execution_count": 28,
   "id": "c8ddc987",
   "metadata": {},
   "outputs": [
    {
     "name": "stdout",
     "output_type": "stream",
     "text": [
      "Hello World\n"
     ]
    }
   ],
   "source": [
    "a = 50\n",
    "b = 10\n",
    "if a!=b:\n",
    "  print(\"Hello World\")"
   ]
  },
  {
   "cell_type": "markdown",
   "id": "036e0526",
   "metadata": {},
   "source": [
    "if ex3"
   ]
  },
  {
   "cell_type": "code",
   "execution_count": null,
   "id": "cbef865b",
   "metadata": {},
   "outputs": [],
   "source": [
    "a = 50\n",
    "b = 10\n",
    "if a==b:\n",
    "  print(\"Yes\")\n",
    "else:\n",
    "  print(\"No\")"
   ]
  },
  {
   "cell_type": "markdown",
   "id": "c0ba6454",
   "metadata": {},
   "source": [
    "if ex4"
   ]
  },
  {
   "cell_type": "code",
   "execution_count": null,
   "id": "c70f6d87",
   "metadata": {},
   "outputs": [],
   "source": [
    "a = 50\n",
    "b = 10\n",
    "if a==b:\n",
    "  print(\"1\")\n",
    "elif a>b:\n",
    "  print(\"2\")\n",
    "else:\n",
    "  print(\"3\")"
   ]
  },
  {
   "cell_type": "markdown",
   "id": "5bcbc1c3",
   "metadata": {},
   "source": [
    "if ex5"
   ]
  },
  {
   "cell_type": "code",
   "execution_count": null,
   "id": "45c39ccb",
   "metadata": {},
   "outputs": [],
   "source": [
    "if a == b and c == d:\n",
    "  print(\"Hello\")"
   ]
  },
  {
   "cell_type": "markdown",
   "id": "546a2c24",
   "metadata": {},
   "source": [
    "if ex6"
   ]
  },
  {
   "cell_type": "code",
   "execution_count": null,
   "id": "a88e439e",
   "metadata": {},
   "outputs": [],
   "source": [
    "if a == b or c == d:\n",
    "  print(\"Hello\")"
   ]
  },
  {
   "cell_type": "markdown",
   "id": "cb24f519",
   "metadata": {},
   "source": [
    "if ex7"
   ]
  },
  {
   "cell_type": "code",
   "execution_count": 31,
   "id": "c4b6e2f1",
   "metadata": {},
   "outputs": [
    {
     "name": "stdout",
     "output_type": "stream",
     "text": [
      "Five is greater than two!\n"
     ]
    }
   ],
   "source": [
    "if 5 > 2:\n",
    "    print(\"Five is greater than two!\")"
   ]
  },
  {
   "cell_type": "markdown",
   "id": "889bbbf0",
   "metadata": {},
   "source": [
    "if ex8"
   ]
  },
  {
   "cell_type": "code",
   "execution_count": null,
   "id": "3cafd707",
   "metadata": {},
   "outputs": [],
   "source": [
    "if 5 > 2: print(\"Five is greater than two!\")"
   ]
  },
  {
   "cell_type": "markdown",
   "id": "c9caf7a2",
   "metadata": {},
   "source": [
    "if ex9"
   ]
  },
  {
   "cell_type": "code",
   "execution_count": 33,
   "id": "8ffa0af4",
   "metadata": {},
   "outputs": [
    {
     "name": "stdout",
     "output_type": "stream",
     "text": [
      "Yes\n"
     ]
    }
   ],
   "source": [
    "print(\"Yes\") if 5>2 else print(\"No\")"
   ]
  },
  {
   "cell_type": "markdown",
   "id": "aa1965e0",
   "metadata": {},
   "source": [
    "while ex1"
   ]
  },
  {
   "cell_type": "code",
   "execution_count": null,
   "id": "ba5aa1f0",
   "metadata": {},
   "outputs": [],
   "source": [
    "i = 1\n",
    "while i < 6:\n",
    "  print(i)\n",
    "  i += 1"
   ]
  },
  {
   "cell_type": "markdown",
   "id": "04b2d9e2",
   "metadata": {},
   "source": [
    "while ex2"
   ]
  },
  {
   "cell_type": "code",
   "execution_count": 34,
   "id": "1a1aeb18",
   "metadata": {},
   "outputs": [],
   "source": [
    "i = 1\n",
    "while i < 6:\n",
    "  if i == 3:\n",
    "    break\n",
    "    \n",
    "  i += 1"
   ]
  },
  {
   "cell_type": "markdown",
   "id": "bb0add3b",
   "metadata": {},
   "source": [
    "while ex3"
   ]
  },
  {
   "cell_type": "code",
   "execution_count": null,
   "id": "a7505fec",
   "metadata": {},
   "outputs": [],
   "source": [
    "i = 0\n",
    "while i < 6:\n",
    "  i += 1\n",
    "  if i == 3:\n",
    "    continue\n",
    "  print(i)"
   ]
  },
  {
   "cell_type": "markdown",
   "id": "6db81298",
   "metadata": {},
   "source": [
    "while ex4"
   ]
  },
  {
   "cell_type": "code",
   "execution_count": null,
   "id": "d876d9c5",
   "metadata": {},
   "outputs": [],
   "source": [
    "i = 1\n",
    "while i < 6:\n",
    "  print(i)\n",
    "  i += 1\n",
    "else:\n",
    "  print(\"i is no longer less than 6\")"
   ]
  },
  {
   "cell_type": "markdown",
   "id": "3ee52543",
   "metadata": {},
   "source": [
    "for ex1"
   ]
  },
  {
   "cell_type": "code",
   "execution_count": null,
   "id": "362dcd54",
   "metadata": {},
   "outputs": [],
   "source": [
    "fruits = [\"apple\", \"banana\", \"cherry\"]\n",
    "for x in fruits:\n",
    "  print(x)"
   ]
  },
  {
   "cell_type": "markdown",
   "id": "a6c86984",
   "metadata": {},
   "source": [
    "for ex2"
   ]
  },
  {
   "cell_type": "code",
   "execution_count": null,
   "id": "9cfa70cc",
   "metadata": {},
   "outputs": [],
   "source": [
    "fruits = [\"apple\", \"banana\", \"cherry\"]\n",
    "for x in fruits:\n",
    "  if x == \"banana\":\n",
    "    continue\n",
    "  print(x)"
   ]
  },
  {
   "cell_type": "markdown",
   "id": "89fc6057",
   "metadata": {},
   "source": [
    "for ex3"
   ]
  },
  {
   "cell_type": "code",
   "execution_count": null,
   "id": "78b267ec",
   "metadata": {},
   "outputs": [],
   "source": [
    "for x in range(6):\n",
    "  print(x)"
   ]
  },
  {
   "cell_type": "markdown",
   "id": "4f79f1cd",
   "metadata": {},
   "source": [
    "for ex4"
   ]
  },
  {
   "cell_type": "code",
   "execution_count": 35,
   "id": "862b1d00",
   "metadata": {},
   "outputs": [
    {
     "name": "stdout",
     "output_type": "stream",
     "text": [
      "apple\n"
     ]
    }
   ],
   "source": [
    "fruits = [\"apple\", \"banana\", \"cherry\"]\n",
    "for x in fruits:\n",
    "  if x == \"banana\":\n",
    "    break\n",
    "  print(x)"
   ]
  },
  {
   "cell_type": "code",
   "execution_count": null,
   "id": "49c67071",
   "metadata": {},
   "outputs": [],
   "source": []
  }
 ],
 "metadata": {
  "kernelspec": {
   "display_name": "Python 3 (ipykernel)",
   "language": "python",
   "name": "python3"
  },
  "language_info": {
   "codemirror_mode": {
    "name": "ipython",
    "version": 3
   },
   "file_extension": ".py",
   "mimetype": "text/x-python",
   "name": "python",
   "nbconvert_exporter": "python",
   "pygments_lexer": "ipython3",
   "version": "3.9.13"
  }
 },
 "nbformat": 4,
 "nbformat_minor": 5
}
